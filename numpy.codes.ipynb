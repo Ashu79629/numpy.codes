{
 "cells": [
  {
   "cell_type": "code",
   "execution_count": 3,
   "id": "38d13466-e2d4-4862-9bcf-db51df02184f",
   "metadata": {},
   "outputs": [
    {
     "name": "stdout",
     "output_type": "stream",
     "text": [
      "[[1 2 3 4]\n",
      " [1 3 5 6]]\n",
      "2\n"
     ]
    }
   ],
   "source": [
    "import numpy as np\n",
    "\n",
    "a = np.array([[1,2,3,4], [1,3,5,6]])\n",
    "print(a)\n",
    "print(a.ndim)"
   ]
  },
  {
   "cell_type": "code",
   "execution_count": 6,
   "id": "512d3e78-3a9a-43a2-a5e0-bb53b6249eb0",
   "metadata": {},
   "outputs": [
    {
     "name": "stdout",
     "output_type": "stream",
     "text": [
      "[[[1 3 4 5]\n",
      "  [1 2 3 4]]]\n",
      "3\n"
     ]
    }
   ],
   "source": [
    "a2 = np.array([[[1,3,4,5], [1,2,3,4]]])\n",
    "print(a2)\n",
    "print(a2.ndim)"
   ]
  },
  {
   "cell_type": "code",
   "execution_count": 8,
   "id": "cb49e7bc-8b89-48c0-bf55-178f786e7839",
   "metadata": {},
   "outputs": [
    {
     "name": "stdout",
     "output_type": "stream",
     "text": [
      "[[[[[[[[[[1 2 3 4]]]]]]]]]]\n",
      "10\n"
     ]
    }
   ],
   "source": [
    "a3 = np.array([1,2,3,4], ndmin=10)\n",
    "print(a3)\n",
    "print(a3.ndim)"
   ]
  },
  {
   "cell_type": "code",
   "execution_count": 2,
   "id": "9641daf4-c86e-438f-9ada-d4514f0c8f7e",
   "metadata": {},
   "outputs": [
    {
     "name": "stdout",
     "output_type": "stream",
     "text": [
      "hello world\n"
     ]
    }
   ],
   "source": [
    "print(\"hello world\")"
   ]
  },
  {
   "cell_type": "raw",
   "id": "130c09ce-ae97-408e-a2c1-7b00caf8c884",
   "metadata": {},
   "source": [
    "# numpy functions"
   ]
  },
  {
   "cell_type": "markdown",
   "id": "6dd8e8ee-02e9-4549-ac46-29d2f5493060",
   "metadata": {},
   "source": [
    "zeros"
   ]
  },
  {
   "cell_type": "code",
   "execution_count": 3,
   "id": "8c060f64-8898-4759-bd49-0c8db27ee04b",
   "metadata": {},
   "outputs": [
    {
     "name": "stdout",
     "output_type": "stream",
     "text": [
      "[0. 0. 0. 0.]\n"
     ]
    }
   ],
   "source": [
    "import numpy as np\n",
    "ar_zer = np.zeros(4)\n",
    "print(ar_zer)"
   ]
  },
  {
   "cell_type": "markdown",
   "id": "7011b462-4557-45dc-885a-ef4511c3c904",
   "metadata": {},
   "source": [
    "ones\n"
   ]
  },
  {
   "cell_type": "code",
   "execution_count": 5,
   "id": "55d523e7-1a0d-42bc-99f4-fcb2334153d1",
   "metadata": {},
   "outputs": [
    {
     "name": "stdout",
     "output_type": "stream",
     "text": [
      "[1. 1. 1. 1.]\n"
     ]
    }
   ],
   "source": [
    "ar_one = np.ones(4)\n",
    "print(ar_one)"
   ]
  },
  {
   "cell_type": "code",
   "execution_count": 7,
   "id": "aa1aa704-a965-4484-bb9f-0719da7d4495",
   "metadata": {},
   "outputs": [],
   "source": [
    "# range fuctions"
   ]
  },
  {
   "cell_type": "code",
   "execution_count": 9,
   "id": "f5dcf6bb-f746-4422-8e3a-8131bb40ea92",
   "metadata": {},
   "outputs": [
    {
     "name": "stdout",
     "output_type": "stream",
     "text": [
      "[0 1 2 3 4 5]\n"
     ]
    }
   ],
   "source": [
    "ar_ran = np.arange(6)\n",
    "print(ar_ran)"
   ]
  },
  {
   "cell_type": "code",
   "execution_count": 10,
   "id": "e3443210-dc3e-4298-80d2-7f60ff8be69b",
   "metadata": {},
   "outputs": [],
   "source": [
    "# diagonal fuction"
   ]
  },
  {
   "cell_type": "code",
   "execution_count": 14,
   "id": "c6ffb286-098b-432c-9302-108fadc16640",
   "metadata": {},
   "outputs": [
    {
     "name": "stdout",
     "output_type": "stream",
     "text": [
      "[[1. 0. 0. 0.]\n",
      " [0. 1. 0. 0.]\n",
      " [0. 0. 1. 0.]]\n"
     ]
    }
   ],
   "source": [
    "ar_dia = np.eye(3,4)\n",
    "print(ar_dia)"
   ]
  },
  {
   "cell_type": "code",
   "execution_count": 16,
   "id": "46489ba4-a1b4-402a-a5c2-76c6f28418b5",
   "metadata": {},
   "outputs": [
    {
     "name": "stdout",
     "output_type": "stream",
     "text": [
      "[0.64030749 0.56525315 0.05594919 0.44327013 0.12320298]\n"
     ]
    }
   ],
   "source": [
    "import numpy as np\n",
    "\n",
    "var = np.random.rand(5)\n",
    "print(var)"
   ]
  },
  {
   "cell_type": "code",
   "execution_count": 18,
   "id": "dcf7d481-35b4-4a37-a94b-dcc65a58b6f5",
   "metadata": {},
   "outputs": [
    {
     "name": "stdout",
     "output_type": "stream",
     "text": [
      "[-0.70877287  0.71914415 -1.0796618  -0.05128967]\n"
     ]
    }
   ],
   "source": [
    "# for randn\n",
    "\n",
    "var1 = np.random.randn(4)\n",
    "print(var1)"
   ]
  },
  {
   "cell_type": "code",
   "execution_count": 20,
   "id": "0b673c27-8da2-49d1-b248-a6fb06356cdd",
   "metadata": {},
   "outputs": [
    {
     "name": "stdout",
     "output_type": "stream",
     "text": [
      "[0.48067032 0.96379712 0.2097965  0.37415154 0.70237387 0.4742782 ]\n"
     ]
    }
   ],
   "source": [
    "# for ranf\n",
    "\n",
    "var2 = np.random.ranf(6)\n",
    "print(var2)"
   ]
  },
  {
   "cell_type": "code",
   "execution_count": 42,
   "id": "82128884-4fe7-4c9e-bb2b-4f240eb5c94e",
   "metadata": {
    "scrolled": true
   },
   "outputs": [
    {
     "name": "stdout",
     "output_type": "stream",
     "text": [
      "[9 5 9 3]\n"
     ]
    }
   ],
   "source": [
    "# for randint\n",
    "import numpy as np\n",
    "var3 = np.random.randint(3,10, 4)\n",
    "print(var3)"
   ]
  },
  {
   "cell_type": "code",
   "execution_count": 2,
   "id": "a17b761c-c964-43e4-b847-8af69bc221ca",
   "metadata": {},
   "outputs": [
    {
     "name": "stdout",
     "output_type": "stream",
     "text": [
      "[1 2 3 4]\n",
      "int64\n"
     ]
    }
   ],
   "source": [
    "import numpy as np\n",
    "\n",
    "var = np.array([1,2,3,4])\n",
    "print(var)\n",
    "print(var.dtype)"
   ]
  },
  {
   "cell_type": "code",
   "execution_count": 4,
   "id": "8c91a53c-c14f-4602-99fe-47a5245d00c4",
   "metadata": {},
   "outputs": [
    {
     "name": "stdout",
     "output_type": "stream",
     "text": [
      "[1.  2.  4.5 6. ]\n",
      "float64\n"
     ]
    }
   ],
   "source": [
    "var1 = np.array([1.0, 2.0, 4.5, 6.0])\n",
    "print(var1)\n",
    "print(var1.dtype)"
   ]
  },
  {
   "cell_type": "code",
   "execution_count": 6,
   "id": "c5ef7abb-7985-46b9-8828-83ff04858fa6",
   "metadata": {},
   "outputs": [
    {
     "name": "stdout",
     "output_type": "stream",
     "text": [
      "['a' 'b' 'c' 'd']\n",
      "<U1\n"
     ]
    }
   ],
   "source": [
    "var2 = np.array([\"a\", \"b\", \"c\", \"d\"])\n",
    "print(var2)\n",
    "print(var2.dtype)"
   ]
  },
  {
   "cell_type": "code",
   "execution_count": 13,
   "id": "ed1d3b0d-a028-4ba2-801e-e4b3d68f2856",
   "metadata": {},
   "outputs": [
    {
     "name": "stdout",
     "output_type": "stream",
     "text": [
      "[2 4 5 6 7]\n",
      "int16\n"
     ]
    }
   ],
   "source": [
    "var4 = np.array([2,4,5,6,7], dtype= np.int16)\n",
    "print(var4)\n",
    "print(var4.dtype)"
   ]
  },
  {
   "cell_type": "code",
   "execution_count": 18,
   "id": "4d0116a2-bddc-437d-9de2-a2db2ac41618",
   "metadata": {},
   "outputs": [
    {
     "name": "stdout",
     "output_type": "stream",
     "text": [
      "[1. 3. 5. 6. 7.]\n",
      "float32\n"
     ]
    }
   ],
   "source": [
    "var5 = np.array([1,3,5,6,7],dtype = \"f\")\n",
    "print(var5)\n",
    "print(var5.dtype)"
   ]
  },
  {
   "cell_type": "code",
   "execution_count": 21,
   "id": "fde97806-de9e-4143-ad83-aab73ea50223",
   "metadata": {},
   "outputs": [
    {
     "name": "stdout",
     "output_type": "stream",
     "text": [
      "[1 2 3 4 5]\n",
      "[4 5 6 7 8]\n"
     ]
    }
   ],
   "source": [
    "import numpy as np\n",
    "\n",
    "# arithmetic operations\n",
    "var1 = np.array([1,2,3,4,5])\n",
    "varadd = var1 + 3\n",
    "print(var1)\n",
    "print(varadd)\n"
   ]
  },
  {
   "cell_type": "code",
   "execution_count": 23,
   "id": "2be41016-7200-4a45-b410-38012617656b",
   "metadata": {},
   "outputs": [
    {
     "name": "stdout",
     "output_type": "stream",
     "text": [
      "[ 4  8 12 16 20]\n"
     ]
    }
   ],
   "source": [
    "var2 = np.array([1,2,3,4,5])\n",
    "varadd = var2 * 4\n",
    "print(varadd)"
   ]
  },
  {
   "cell_type": "code",
   "execution_count": 24,
   "id": "72c69c19-4034-42d3-9b00-b380cb99f4d7",
   "metadata": {},
   "outputs": [
    {
     "name": "stdout",
     "output_type": "stream",
     "text": [
      "[1. 2. 3. 4. 5.]\n"
     ]
    }
   ],
   "source": [
    "var3 = np.array([2,4,6,8,10])\n",
    "varadd = var3 / 2\n",
    "print(varadd)"
   ]
  },
  {
   "cell_type": "code",
   "execution_count": 26,
   "id": "0b1d51d1-6cea-45a5-a01d-68ccd9236751",
   "metadata": {},
   "outputs": [
    {
     "name": "stdout",
     "output_type": "stream",
     "text": [
      "[ 1  4  9 16 25]\n"
     ]
    }
   ],
   "source": [
    "var4 = np.array([1,2,3,4,5])\n",
    "var5 = np.array([1,2,3,4,5])\n",
    "varadd = var4 * var5\n",
    "print(varadd)"
   ]
  },
  {
   "cell_type": "code",
   "execution_count": 31,
   "id": "1c8eff95-87e2-4956-96e3-39dada7d555b",
   "metadata": {},
   "outputs": [
    {
     "name": "stdout",
     "output_type": "stream",
     "text": [
      "[ 1  4  9 16 25]\n"
     ]
    }
   ],
   "source": [
    "var6 = np.array([[1,2,3,4,5],[1,3,5,7,9]])\n",
    "var7 = np.array([[1,2,3,4,5], [1,3,5,7,9]])\n",
    "vardd = np.add(var6, var7)\n",
    "print(varadd)"
   ]
  },
  {
   "cell_type": "code",
   "execution_count": 5,
   "id": "e6d37ee9-d4d3-4c54-9089-44fd461eac5e",
   "metadata": {},
   "outputs": [
    {
     "name": "stdout",
     "output_type": "stream",
     "text": [
      "(2, 3)\n"
     ]
    }
   ],
   "source": [
    "import numpy as np\n",
    "\n",
    "# shpae in numpy\n",
    "\n",
    "var = np.array([[1,2,3], [1,2,3]])\n",
    "print(var.shape)"
   ]
  },
  {
   "cell_type": "code",
   "execution_count": 6,
   "id": "f94ab82d-ea70-4209-99c3-f5ec040d48d9",
   "metadata": {},
   "outputs": [
    {
     "name": "stdout",
     "output_type": "stream",
     "text": [
      "[[1 2 3 4 5 6 7 8 9]\n",
      " [1 2 3 4 5 6 7 8 9]]\n",
      "2\n",
      "<class 'numpy.ndarray'>\n",
      "(2, 9)\n"
     ]
    }
   ],
   "source": [
    "var1 = np.array([[1,2,3,4,5,6,7,8,9], [1,2,3,4,5,6,7,8,9]])\n",
    "print(var1)\n",
    "print(var1.ndim)\n",
    "print(type(var1))\n",
    "print(var1.shape)"
   ]
  },
  {
   "cell_type": "code",
   "execution_count": 9,
   "id": "fcfb6dea-294d-47e3-bec2-ca5f5b702066",
   "metadata": {},
   "outputs": [
    {
     "name": "stdout",
     "output_type": "stream",
     "text": [
      "[[[[[1 2 3 4]]]]]\n",
      "5\n",
      "(1, 1, 1, 1, 4)\n"
     ]
    }
   ],
   "source": [
    "var4 = np.array([1,2,3,4], ndmin = 5)\n",
    "print(var4)\n",
    "print(var4.ndim)\n",
    "print(var4.shape)"
   ]
  },
  {
   "cell_type": "code",
   "execution_count": 12,
   "id": "984c1beb-d447-4647-bc4d-51c0642c8eca",
   "metadata": {},
   "outputs": [
    {
     "name": "stdout",
     "output_type": "stream",
     "text": [
      "[ 1  3  5  7  9 11]\n",
      "\n",
      "1\n",
      "\n",
      "[[ 1  3  5]\n",
      " [ 7  9 11]]\n",
      "2\n"
     ]
    }
   ],
   "source": [
    "# reshape in numpy array\n",
    "\n",
    "var5 = np.array([1,3,5,7,9,11])\n",
    "x = var5.reshape(2,3)\n",
    "print(var5)\n",
    "print()\n",
    "print(var5.ndim)\n",
    "print()\n",
    "print(x)\n",
    "print(x.ndim)"
   ]
  },
  {
   "cell_type": "code",
   "execution_count": 17,
   "id": "0b65f589-a9bc-4820-8441-91f35aab92ac",
   "metadata": {},
   "outputs": [
    {
     "name": "stdout",
     "output_type": "stream",
     "text": [
      "[ 1  2  3  4  5  6  7  8  9 10 11 12]\n",
      "\n",
      "1\n",
      "\n",
      "[[ 1  2  3  4]\n",
      " [ 5  6  7  8]\n",
      " [ 9 10 11 12]]\n",
      "\n",
      "2\n",
      "\n",
      "[ 1  2  3  4  5  6  7  8  9 10 11 12]\n"
     ]
    }
   ],
   "source": [
    "# convert\n",
    "var6 = np.array([1,2,3,4,5,6,7,8,9,10,11,12])\n",
    "x = var6.reshape(3,4)\n",
    "one = x.reshape(-1)\n",
    "print(var6)\n",
    "print()\n",
    "print(var6.ndim)\n",
    "print()\n",
    "print(x)\n",
    "print()\n",
    "print(x.ndim)\n",
    "print()\n",
    "print(one)"
   ]
  },
  {
   "cell_type": "code",
   "execution_count": 25,
   "id": "4dcea54c-37b3-4643-87d9-693fef79e808",
   "metadata": {},
   "outputs": [
    {
     "name": "stdout",
     "output_type": "stream",
     "text": [
      "[[1]\n",
      " [2]\n",
      " [3]]\n",
      "(3, 1)\n",
      "2\n",
      "[1 2 3]\n",
      "\n",
      "\n",
      "(3,)\n",
      "[[2 3 4]\n",
      " [3 4 5]\n",
      " [4 5 6]]\n"
     ]
    }
   ],
   "source": [
    "# broadcasting in numpy\n",
    "var1 = np.array([[1], [2], [3]])\n",
    "print(var1)\n",
    "print(var1.shape)\n",
    "print(var1.ndim)\n",
    "\n",
    "var2 = np.array([1,2,3])\n",
    "print(var2)\n",
    "print(\"\\n\")\n",
    "print(var2.shape)\n",
    "print(var1 + var2)"
   ]
  },
  {
   "cell_type": "code",
   "execution_count": 2,
   "id": "29788f0a-269b-4818-9fd7-ab9b9830c159",
   "metadata": {},
   "outputs": [
    {
     "name": "stdout",
     "output_type": "stream",
     "text": [
      "[[1]\n",
      " [2]\n",
      " [3]]\n",
      "(3, 2)\n",
      "[[2 3]\n",
      " [3 4]\n",
      " [4 5]]\n"
     ]
    }
   ],
   "source": [
    "import numpy as np\n",
    "\n",
    "var = np.array([[1], [2], [3]])\n",
    "print(var)\n",
    "\n",
    "var1 = np.array([[1,2],[1,2],[1,2]])\n",
    "print(var1.shape)\n",
    "\n",
    "varadd = var + var1\n",
    "print(varadd)"
   ]
  },
  {
   "cell_type": "code",
   "execution_count": 2,
   "id": "6c81a229-a935-440c-b65c-41f8e0219f3e",
   "metadata": {},
   "outputs": [
    {
     "name": "stdout",
     "output_type": "stream",
     "text": [
      "2\n"
     ]
    }
   ],
   "source": [
    "# indexing and slicing in numpy\n",
    "import numpy as np\n",
    "var = np.array([[1,2],[1,4]])\n",
    "print(var[0][1])"
   ]
  },
  {
   "cell_type": "code",
   "execution_count": 5,
   "id": "66dcfdd0-bd34-4860-a043-b51b1be5862c",
   "metadata": {},
   "outputs": [
    {
     "name": "stdout",
     "output_type": "stream",
     "text": [
      "[2, 3, 4, 5, 6, 7, 8]\n"
     ]
    }
   ],
   "source": [
    "var1 = ([1,2,3,4,5,6,7,8,9])\n",
    "print(var1[1:8])\n"
   ]
  },
  {
   "cell_type": "code",
   "execution_count": 7,
   "id": "77a28c22-806d-4826-8e6a-24c597bed835",
   "metadata": {},
   "outputs": [
    {
     "name": "stdout",
     "output_type": "stream",
     "text": [
      "[2, 4, 6, 8, 10, 12]\n"
     ]
    }
   ],
   "source": [
    "var2 = ([2,4,6,8,10,12,14])\n",
    "print(var2[:6])\n"
   ]
  },
  {
   "cell_type": "code",
   "execution_count": 12,
   "id": "f15f43e1-f0d2-48fa-a31b-a6c89730b2ff",
   "metadata": {},
   "outputs": [
    {
     "name": "stdout",
     "output_type": "stream",
     "text": [
      "[4 5 6 7]\n"
     ]
    }
   ],
   "source": [
    "# slicing in numpy\n",
    "var4 = np.array([[1,2,3,4,5],[2,4,5,6,7],[3,6,9,12,15]])\n",
    "print(var4[1,1:])\n"
   ]
  },
  {
   "cell_type": "code",
   "execution_count": 20,
   "id": "72e67d70-63ab-448d-9ac0-1afacc05e434",
   "metadata": {},
   "outputs": [
    {
     "name": "stdout",
     "output_type": "stream",
     "text": [
      "1\n",
      "2\n",
      "4\n",
      "5\n",
      "6\n"
     ]
    }
   ],
   "source": [
    "# iteration in numpy\n",
    "var1 = np.array([1,2,4,5,6])\n",
    "for i in var1:\n",
    "    print(i)\n"
   ]
  },
  {
   "cell_type": "code",
   "execution_count": 24,
   "id": "a4a8d1b2-b66f-45b0-802f-05b4ce643c05",
   "metadata": {},
   "outputs": [
    {
     "name": "stdout",
     "output_type": "stream",
     "text": [
      "1\n",
      "2\n",
      "3\n",
      "4\n",
      "5\n",
      "1\n",
      "3\n",
      "5\n",
      "7\n",
      "9\n"
     ]
    }
   ],
   "source": [
    "var2 = np.array([[1,2,3,4,5],[1,3,5,7,9]])\n",
    "for i in var2:\n",
    "    for j in i:\n",
    "        print(j)"
   ]
  },
  {
   "cell_type": "code",
   "execution_count": 26,
   "id": "55e54067-2698-47d9-8d9d-3f5ab0d21df6",
   "metadata": {},
   "outputs": [
    {
     "name": "stdout",
     "output_type": "stream",
     "text": [
      "1\n",
      "3\n",
      "5\n",
      "7\n",
      "9\n",
      "2\n",
      "3\n",
      "5\n",
      "6\n",
      "7\n",
      "2\n",
      "4\n",
      "6\n",
      "8\n",
      "10\n"
     ]
    }
   ],
   "source": [
    "var3 = np.array([[[1,3,5,7,9], [2,3,5,6,7], [2,4,6,8,10]]])\n",
    "for i in var3:\n",
    "    for j in i:\n",
    "        for k in j:\n",
    "            print(k)"
   ]
  },
  {
   "cell_type": "code",
   "execution_count": 29,
   "id": "f951f964-7266-4837-821f-1d60e66e80a1",
   "metadata": {},
   "outputs": [
    {
     "name": "stdout",
     "output_type": "stream",
     "text": [
      "<numpy.nditer object at 0x00000272E57BCC70>\n",
      "1\n",
      "2\n",
      "3\n",
      "4\n",
      "5\n",
      "1\n",
      "4\n",
      "5\n",
      "7\n",
      "8\n",
      "2\n",
      "4\n",
      "6\n",
      "8\n",
      "9\n"
     ]
    }
   ],
   "source": [
    "var4 = np.array([[[1,2,3,4,5], [1,4,5,7,8], [2,4,6,8,9]]])\n",
    "print(np.nditer(var4))\n",
    "for i in np.nditer(var4):\n",
    "    print(i)"
   ]
  },
  {
   "cell_type": "code",
   "execution_count": 32,
   "id": "44bae7b4-4cce-4c10-865f-1ed17c9c0deb",
   "metadata": {},
   "outputs": [
    {
     "name": "stdout",
     "output_type": "stream",
     "text": [
      "2\n",
      "3\n",
      "4\n",
      "5\n",
      "6\n",
      "1\n",
      "2\n",
      "3\n",
      "4\n",
      "5\n",
      "1\n",
      "3\n",
      "5\n",
      "7\n",
      "9\n"
     ]
    }
   ],
   "source": [
    "var5 = ([[[2,3,4,5,6],[1,2,3,4,5], [1,3,5,7,9]]])\n",
    "for i in np.nditer(var5):\n",
    "    print(i)"
   ]
  },
  {
   "cell_type": "code",
   "execution_count": 44,
   "id": "1518d852-c998-4420-95ee-d3301bced366",
   "metadata": {},
   "outputs": [
    {
     "name": "stdout",
     "output_type": "stream",
     "text": [
      "((0, 0, 0), np.int64(2))\n",
      "((0, 0, 1), np.int64(3))\n",
      "((0, 0, 2), np.int64(4))\n",
      "((0, 0, 3), np.int64(5))\n",
      "((0, 0, 4), np.int64(6))\n",
      "((0, 1, 0), np.int64(1))\n",
      "((0, 1, 1), np.int64(2))\n",
      "((0, 1, 2), np.int64(3))\n",
      "((0, 1, 3), np.int64(4))\n",
      "((0, 1, 4), np.int64(5))\n",
      "((0, 2, 0), np.int64(1))\n",
      "((0, 2, 1), np.int64(3))\n",
      "((0, 2, 2), np.int64(5))\n",
      "((0, 2, 3), np.int64(7))\n",
      "((0, 2, 4), np.int64(9))\n"
     ]
    }
   ],
   "source": [
    "var5 = ([[[2,3,4,5,6],[1,2,3,4,5], [1,3,5,7,9]]])\n",
    "for i in np.ndenumerate(var5):\n",
    "    print(i)"
   ]
  },
  {
   "cell_type": "code",
   "execution_count": 41,
   "id": "83e323d3-a1b5-40c5-9cc1-5eafe8fbede6",
   "metadata": {},
   "outputs": [
    {
     "name": "stdout",
     "output_type": "stream",
     "text": [
      "[1 2 3 4 5]\n",
      "[ 1 24  3  4  5]\n"
     ]
    }
   ],
   "source": [
    "# copy vs view in numpy\n",
    "\n",
    "var = np.array([1,2,3,4,5])\n",
    "co = var.copy()\n",
    "var[1] = 24\n",
    "print(co)\n",
    "print(var)"
   ]
  },
  {
   "cell_type": "code",
   "execution_count": 1,
   "id": "6e97110a-b0e5-4004-b11a-2b8a223ceb93",
   "metadata": {},
   "outputs": [
    {
     "name": "stdout",
     "output_type": "stream",
     "text": [
      "[ 2  4 45  8 10]\n",
      "[ 2  4 45  8 10]\n"
     ]
    }
   ],
   "source": [
    "import numpy as np\n",
    "var1 = np.array([2,4,6,8,10])\n",
    "vi = var1.view()\n",
    "var1[2] = 45\n",
    "print(vi)\n",
    "print(var1)"
   ]
  },
  {
   "cell_type": "code",
   "execution_count": 4,
   "id": "2c6830fa-e581-4965-8461-d73aa362968e",
   "metadata": {},
   "outputs": [
    {
     "name": "stdout",
     "output_type": "stream",
     "text": [
      "[1 2 3 4 5 1 4 6 9 0]\n"
     ]
    }
   ],
   "source": [
    "# joiniing and spliting in numpy\n",
    "# join array\n",
    "var = np.array([1,2,3,4,5])\n",
    "var1 = np.array([1,4,6,9,0])\n",
    "\n",
    "x = np.concatenate((var,var1))\n",
    "print(x)\n"
   ]
  },
  {
   "cell_type": "code",
   "execution_count": 10,
   "id": "218d39c1-152b-4281-9f3d-bcfb85ab508b",
   "metadata": {},
   "outputs": [
    {
     "name": "stdout",
     "output_type": "stream",
     "text": [
      "[[1 2]\n",
      " [3 4]\n",
      " [1 4]\n",
      " [6 9]]\n"
     ]
    }
   ],
   "source": [
    "var = np.array([[1,2], [3,4]])\n",
    "var1 = np.array([[1,4], [6,9]])\n",
    "x1 = np.concatenate((var,var1), axis=0)\n",
    "print(x1)\n"
   ]
  },
  {
   "cell_type": "code",
   "execution_count": 15,
   "id": "ab69b116-2d4e-46c8-afc8-002b9924e3a2",
   "metadata": {},
   "outputs": [
    {
     "name": "stdout",
     "output_type": "stream",
     "text": [
      "[[[1 1]\n",
      "  [5 2]\n",
      "  [7 3]\n",
      "  [9 4]]]\n"
     ]
    }
   ],
   "source": [
    "var1 = np.array([1,5,7,9])\n",
    "var2 = np.array([1,2,3,4])\n",
    "x2 = np.dstack((var1,var2))\n",
    "print(x2)"
   ]
  },
  {
   "cell_type": "code",
   "execution_count": 18,
   "id": "39af2c89-cbf8-4ab7-9fab-ed56f7202dfe",
   "metadata": {},
   "outputs": [
    {
     "name": "stdout",
     "output_type": "stream",
     "text": [
      "[array([1, 3]), array([5, 7]), array([8, 9])]\n"
     ]
    }
   ],
   "source": [
    "# split arrays\n",
    "a = np.array([1,3,5,7,8,9])\n",
    "b = np.array_split(a,3)\n",
    "print(b)"
   ]
  },
  {
   "cell_type": "code",
   "execution_count": 20,
   "id": "c856393b-6dc6-441d-810c-eac8d264ee6d",
   "metadata": {},
   "outputs": [
    {
     "name": "stdout",
     "output_type": "stream",
     "text": [
      "(array([2]),)\n"
     ]
    }
   ],
   "source": [
    "# fucntions in numpy\n",
    "\n",
    "# where function\n",
    "\n",
    "var = np.array([1,3,5,6,8])\n",
    "vr = np.where(var == 5)\n",
    "print(vr)"
   ]
  },
  {
   "cell_type": "code",
   "execution_count": 23,
   "id": "9ddf919f-3cb2-458b-b469-5d7bd6cd0f2a",
   "metadata": {},
   "outputs": [
    {
     "name": "stdout",
     "output_type": "stream",
     "text": [
      "[2 3]\n"
     ]
    }
   ],
   "source": [
    "# seacrhsorted\n",
    "\n",
    "var1 = np.array([2,4,6,8,9,10,11,12,15])\n",
    "vr1 = np.searchsorted(var1, [5,7])\n",
    "print(vr1)"
   ]
  },
  {
   "cell_type": "code",
   "execution_count": 38,
   "id": "393b76cf-59d7-44cb-9c3b-4336b71f3ea6",
   "metadata": {},
   "outputs": [
    {
     "name": "stdout",
     "output_type": "stream",
     "text": [
      "[  1   2   4   5   6  12  34  67  96  99 100]\n"
     ]
    }
   ],
   "source": [
    "# sort \n",
    "var2 = np.array([1,99,34,2,4,67,5,6,96,100,12])\n",
    "print(np.sort(var2))"
   ]
  },
  {
   "cell_type": "code",
   "execution_count": 39,
   "id": "7a18fb92-0d96-471c-aacf-b291e39cdde4",
   "metadata": {},
   "outputs": [
    {
     "name": "stdout",
     "output_type": "stream",
     "text": [
      "[]\n"
     ]
    }
   ],
   "source": [
    "# filter\n",
    "\n",
    "var_3 = np.array([2,4,6,8,9,10])\n",
    "f = (True,False,False,True,False,True)\n",
    "t_a = var_3[f]\n",
    "print(t_a)\n"
   ]
  },
  {
   "cell_type": "code",
   "execution_count": 40,
   "id": "235712c2-e74d-4edc-8cd6-6b8cb3f9de3e",
   "metadata": {},
   "outputs": [
    {
     "name": "stdout",
     "output_type": "stream",
     "text": [
      "[]\n"
     ]
    }
   ],
   "source": [
    "var_4 = np.array([\"a\",\"b\",\"c\",\"d\"])\n",
    "f = (True,False,False,True)\n",
    "z_a = var_4[f]\n",
    "print(z_a)"
   ]
  },
  {
   "cell_type": "code",
   "execution_count": 3,
   "id": "bd801681-f815-47f2-a0af-5b9fae3a05fe",
   "metadata": {},
   "outputs": [
    {
     "name": "stdout",
     "output_type": "stream",
     "text": [
      "['A' 'B' 'C' 'D']\n"
     ]
    }
   ],
   "source": [
    "import numpy as np\n",
    "\n",
    "var5 = np.array([\"B\", \"C\", \"A\", \"D\"])\n",
    "print(np.sort(var5))"
   ]
  },
  {
   "cell_type": "code",
   "execution_count": 7,
   "id": "78844c75-1239-47c0-a329-5a6c39b73664",
   "metadata": {},
   "outputs": [
    {
     "name": "stdout",
     "output_type": "stream",
     "text": [
      "[1 4 3 5 6 2]\n"
     ]
    }
   ],
   "source": [
    "var = np.array([1,2,3,4,5,6])\n",
    "\n",
    "np.random.shuffle(var)\n",
    "print(var)\n"
   ]
  },
  {
   "cell_type": "code",
   "execution_count": 13,
   "id": "86a8bf30-74f3-44ee-846e-19867d8f6f78",
   "metadata": {},
   "outputs": [
    {
     "name": "stdout",
     "output_type": "stream",
     "text": [
      "[1 2 4 5 6 7 8]\n"
     ]
    }
   ],
   "source": [
    "var1 = ([2,1,2,1,2,4,5,6,7,8])\n",
    "x = np.unique(var1)\n",
    "print(x)"
   ]
  },
  {
   "cell_type": "code",
   "execution_count": 16,
   "id": "0a1001d8-48d1-4be4-9c3b-8f86d7f574fd",
   "metadata": {},
   "outputs": [
    {
     "name": "stdout",
     "output_type": "stream",
     "text": [
      "[[1 2 3]\n",
      " [4 5 6]]\n"
     ]
    }
   ],
   "source": [
    "var2 = ([1,2,3,4,5,6])\n",
    "x = np.resize(var2,(2,3))\n",
    "print(x)"
   ]
  },
  {
   "cell_type": "code",
   "execution_count": 27,
   "id": "c5266737-0022-471c-b469-1cc8578c2b4c",
   "metadata": {},
   "outputs": [
    {
     "name": "stdout",
     "output_type": "stream",
     "text": [
      "\n",
      "[[ 5  8]\n",
      " [ 8 13]]\n",
      "[[1 2]\n",
      " [2 3]]\n"
     ]
    }
   ],
   "source": [
    "# matrix in numpy\n",
    "\n",
    "var = np.matrix([[1,2], [2,3]])\n",
    "var1 = np.matrix([[1,2], [2,3]])\n",
    "print()\n",
    "print(var.dot(var1))\n",
    "print(var)\n"
   ]
  },
  {
   "cell_type": "code",
   "execution_count": 30,
   "id": "31063d59-ed51-4727-9c0f-8182e61f0ec0",
   "metadata": {},
   "outputs": [
    {
     "name": "stdout",
     "output_type": "stream",
     "text": [
      "[[1 4]\n",
      " [2 5]\n",
      " [3 6]]\n",
      "[[1 2 3]\n",
      " [4 5 6]]\n"
     ]
    }
   ],
   "source": [
    "var3 = np.matrix([[1,2,3],[4,5,6]])\n",
    "print(np.transpose(var3))\n",
    "print(var3)"
   ]
  },
  {
   "cell_type": "code",
   "execution_count": null,
   "id": "57876939-c8c4-4d4a-b5fa-64796081a4f0",
   "metadata": {},
   "outputs": [],
   "source": [
    "\n"
   ]
  }
 ],
 "metadata": {
  "kernelspec": {
   "display_name": "Python 3 (ipykernel)",
   "language": "python",
   "name": "python3"
  },
  "language_info": {
   "codemirror_mode": {
    "name": "ipython",
    "version": 3
   },
   "file_extension": ".py",
   "mimetype": "text/x-python",
   "name": "python",
   "nbconvert_exporter": "python",
   "pygments_lexer": "ipython3",
   "version": "3.12.1"
  }
 },
 "nbformat": 4,
 "nbformat_minor": 5
}
